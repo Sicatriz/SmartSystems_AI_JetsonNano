{
  "nbformat": 4,
  "nbformat_minor": 0,
  "metadata": {
    "colab": {
      "provenance": [],
      "gpuType": "T4"
    },
    "kernelspec": {
      "name": "python3",
      "display_name": "Python 3"
    },
    "language_info": {
      "name": "python"
    },
    "accelerator": "GPU"
  },
  "cells": [
    {
      "cell_type": "markdown",
      "source": [
        "# Vraag 2 - Opdracht 1\n",
        " Bouw een systeem waar je anomalies detecteert aan de hand van: XGboost algoritme."
      ],
      "metadata": {
        "id": "SGl92ORK-Iho"
      }
    },
    {
      "cell_type": "markdown",
      "source": [
        "## Importeer benodigde bibliotheken"
      ],
      "metadata": {
        "id": "pDpe1YV6-X26"
      }
    },
    {
      "cell_type": "code",
      "source": [
        "import pandas as pd\n",
        "import xgboost as xgb\n",
        "from sklearn.model_selection import train_test_split\n",
        "from sklearn.metrics import accuracy_score, confusion_matrix, classification_report, f1_score\n",
        "from sklearn.preprocessing import StandardScaler"
      ],
      "metadata": {
        "id": "uF43ITq5-Unm"
      },
      "execution_count": null,
      "outputs": []
    },
    {
      "cell_type": "markdown",
      "source": [
        "## Laad en bescrhijf de dataset"
      ],
      "metadata": {
        "id": "r6TRGDP6_Css"
      }
    },
    {
      "cell_type": "code",
      "source": [
        "data = pd.read_csv('creditcard.csv')\n",
        "data.describe()"
      ],
      "metadata": {
        "colab": {
          "base_uri": "https://localhost:8080/",
          "height": 197
        },
        "id": "KtTgC4_T_TZr",
        "outputId": "9078e319-58c9-4d79-8a20-c32644f61039"
      },
      "execution_count": null,
      "outputs": [
        {
          "output_type": "error",
          "ename": "NameError",
          "evalue": "ignored",
          "traceback": [
            "\u001b[0;31m---------------------------------------------------------------------------\u001b[0m",
            "\u001b[0;31mNameError\u001b[0m                                 Traceback (most recent call last)",
            "\u001b[0;32m<ipython-input-1-6814ac63406f>\u001b[0m in \u001b[0;36m<cell line: 1>\u001b[0;34m()\u001b[0m\n\u001b[0;32m----> 1\u001b[0;31m \u001b[0mdf\u001b[0m \u001b[0;34m=\u001b[0m \u001b[0mpd\u001b[0m\u001b[0;34m.\u001b[0m\u001b[0mread_csv\u001b[0m\u001b[0;34m(\u001b[0m\u001b[0;34m'creditcard.csv'\u001b[0m\u001b[0;34m)\u001b[0m\u001b[0;34m\u001b[0m\u001b[0;34m\u001b[0m\u001b[0m\n\u001b[0m\u001b[1;32m      2\u001b[0m \u001b[0mdf\u001b[0m\u001b[0;34m.\u001b[0m\u001b[0mdescribe\u001b[0m\u001b[0;34m(\u001b[0m\u001b[0;34m)\u001b[0m\u001b[0;34m\u001b[0m\u001b[0;34m\u001b[0m\u001b[0m\n",
            "\u001b[0;31mNameError\u001b[0m: name 'pd' is not defined"
          ]
        }
      ]
    },
    {
      "cell_type": "markdown",
      "source": [
        "Controleer missing values"
      ],
      "metadata": {
        "id": "11vZzXZw_Z-u"
      }
    },
    {
      "cell_type": "code",
      "source": [
        "data.isnull().sum().sum()"
      ],
      "metadata": {
        "colab": {
          "base_uri": "https://localhost:8080/"
        },
        "id": "Xp5Jx4MB_eyc",
        "outputId": "6647af87-bb9d-47de-ceb3-7f24330ebbca"
      },
      "execution_count": null,
      "outputs": [
        {
          "output_type": "execute_result",
          "data": {
            "text/plain": [
              "0"
            ]
          },
          "metadata": {},
          "execution_count": 7
        }
      ]
    },
    {
      "cell_type": "markdown",
      "source": [
        "Bekijk verschillende kolommen"
      ],
      "metadata": {
        "id": "EM8IFUWc_jS_"
      }
    },
    {
      "cell_type": "code",
      "source": [
        "data.columns"
      ],
      "metadata": {
        "colab": {
          "base_uri": "https://localhost:8080/"
        },
        "id": "doRHezwf_m9U",
        "outputId": "89ef61cb-376a-4da0-817e-9e2be9505073"
      },
      "execution_count": null,
      "outputs": [
        {
          "output_type": "execute_result",
          "data": {
            "text/plain": [
              "Index(['Time', 'V1', 'V2', 'V3', 'V4', 'V5', 'V6', 'V7', 'V8', 'V9', 'V10',\n",
              "       'V11', 'V12', 'V13', 'V14', 'V15', 'V16', 'V17', 'V18', 'V19', 'V20',\n",
              "       'V21', 'V22', 'V23', 'V24', 'V25', 'V26', 'V27', 'V28', 'Amount',\n",
              "       'Class'],\n",
              "      dtype='object')"
            ]
          },
          "metadata": {},
          "execution_count": 8
        }
      ]
    },
    {
      "cell_type": "markdown",
      "source": [
        "De enige niet vervormde variablen zijn:\n",
        "- Time\n",
        "- Amount\n",
        "- Class (1: fraude & 0: niet fraude)"
      ],
      "metadata": {
        "id": "s0kQLWoM_wKi"
      }
    },
    {
      "cell_type": "code",
      "source": [
        "vc = data['Class'].value_counts().to_frame().reset_index()\n",
        "vc['percent'] = vc[\"Class\"].apply(lambda x : round(100*float(x) / len(data), 2))\n",
        "vc = vc.rename(columns = {\"index\" : \"Target\", \"Class\" : \"Count\"})\n",
        "vc"
      ],
      "metadata": {
        "colab": {
          "base_uri": "https://localhost:8080/"
        },
        "id": "-m99jyRS__TD",
        "outputId": "7f12b28e-1cf3-4df8-d05a-f4c3f79e0fde"
      },
      "execution_count": null,
      "outputs": [
        {
          "output_type": "execute_result",
          "data": {
            "text/plain": [
              "0    284315\n",
              "1       492\n",
              "Name: Class, dtype: int64"
            ]
          },
          "metadata": {},
          "execution_count": 9
        }
      ]
    },
    {
      "cell_type": "markdown",
      "source": [
        "## Data Voorbereiden"
      ],
      "metadata": {
        "id": "Rs3WYJMkAZR2"
      }
    },
    {
      "cell_type": "code",
      "source": [
        "scalar = StandardScaler()\n",
        "\n",
        "X = data.drop('Class', axis=1)\n",
        "y = data.Class\n",
        "\n",
        "X_train_v, X_test, y_train_v, y_test = train_test_split(X, y,\n",
        "                                                    test_size=0.3, random_state=42)\n",
        "X_train, X_validate, y_train, y_validate = train_test_split(X_train_v, y_train_v,\n",
        "                                                            test_size=0.2, random_state=42)\n",
        "\n",
        "X_train = scalar.fit_transform(X_train)\n",
        "X_validate = scalar.transform(X_validate)\n",
        "X_test = scalar.transform(X_test)\n",
        "\n"
      ],
      "metadata": {
        "colab": {
          "base_uri": "https://localhost:8080/"
        },
        "id": "lj9ksCTpAhh6",
        "outputId": "329bcb9e-92fb-445e-c8b8-957518b270fa"
      },
      "execution_count": null,
      "outputs": [
        {
          "output_type": "stream",
          "name": "stdout",
          "text": [
            "Fraudulant transaction weight: 0.0017994745785028623\n",
            "Non-Fraudulant transaction weight: 0.9982005254214972\n",
            "TRAINING: X_train: (159491, 30), y_train: (159491,)\n",
            "_______________________________________________________\n",
            "VALIDATION: X_validate: (39873, 30), y_validate: (39873,)\n",
            "__________________________________________________\n",
            "TESTING: X_test: (85443, 30), y_test: (85443,)\n"
          ]
        }
      ]
    },
    {
      "cell_type": "markdown",
      "source": [
        "# XGBoost model"
      ],
      "metadata": {
        "id": "8RcvesNwBFkN"
      }
    },
    {
      "cell_type": "code",
      "source": [
        "from xgboost import XGBClassifier\n",
        "\n",
        "xgb = XGBClassifier()\n",
        "xgb.fit(X_train, y_train, eval_metric='aucpr')\n",
        "\n",
        "y_train_pred = xgb.predict(X_train)\n",
        "y_test_pred = xgb.predict(X_test)\n",
        "\n",
        "\n"
      ],
      "metadata": {
        "colab": {
          "base_uri": "https://localhost:8080/"
        },
        "id": "I7WhsNYXBLSC",
        "outputId": "3119993e-b1f2-481d-b73e-397c600ad4b8"
      },
      "execution_count": null,
      "outputs": [
        {
          "output_type": "stream",
          "name": "stderr",
          "text": [
            "/usr/local/lib/python3.10/dist-packages/xgboost/sklearn.py:885: UserWarning: `eval_metric` in `fit` method is deprecated for better compatibility with scikit-learn, use `eval_metric` in constructor or`set_params` instead.\n",
            "  warnings.warn(\n"
          ]
        },
        {
          "output_type": "stream",
          "name": "stdout",
          "text": [
            "Train Result:\n",
            "================================================\n",
            "Accuracy Score: 100.00%\n",
            "_______________________________________________\n",
            "Classification Report:\n",
            "                  0      1  accuracy  macro avg  weighted avg\n",
            "precision       1.0    1.0       1.0        1.0           1.0\n",
            "recall          1.0    1.0       1.0        1.0           1.0\n",
            "f1-score        1.0    1.0       1.0        1.0           1.0\n",
            "support    159204.0  287.0       1.0   159491.0      159491.0\n",
            "_______________________________________________\n",
            "Confusion Matrix: \n",
            " [[159204      0]\n",
            " [     0    287]]\n",
            "\n",
            "Test Result:\n",
            "================================================\n",
            "Accuracy Score: 99.96%\n",
            "_______________________________________________\n",
            "Classification Report:\n",
            "                      0           1  accuracy     macro avg  weighted avg\n",
            "precision      0.999707    0.948718  0.999637      0.974212      0.999626\n",
            "recall         0.999930    0.816176  0.999637      0.908053      0.999637\n",
            "f1-score       0.999818    0.877470  0.999637      0.938644      0.999624\n",
            "support    85307.000000  136.000000  0.999637  85443.000000  85443.000000\n",
            "_______________________________________________\n",
            "Confusion Matrix: \n",
            " [[85301     6]\n",
            " [   25   111]]\n",
            "\n"
          ]
        }
      ]
    },
    {
      "cell_type": "markdown",
      "source": [
        "Evaluatie"
      ],
      "metadata": {
        "id": "z35XfASVyz_F"
      }
    },
    {
      "cell_type": "code",
      "source": [
        "# Evaluatie\n",
        "# Functie om evaluatiemetrieken af te drukken\n",
        "def print_test_score(label, prediction):\n",
        "  if train:\n",
        "    print(\"Train Resultaat:\\n================================================\")\n",
        "    print(f\"Nauwkeurigheids Score: {accuracy_score(label, prediction) * 100:.2f}%\")\n",
        "    print(\"_______________________________________________\")\n",
        "    print(f\"Classificatie Rapport:\\n{classification_report(label, prediction)}\")\n",
        "    print(\"_______________________________________________\")\n",
        "    print(f\"Confusion Matrix: \\n {confusion_matrix(label, prediction)}\\n\")\n",
        "\n",
        "    elif train==False:\n",
        "      print(\"Train resultaat:\\n================================================\")\n",
        "      print(f\"Nauwkeurigheids Score: {accuracy_score(label, prediction) * 100:.2f}%\")\n",
        "      print(\"_______________________________________________\")\n",
        "      print(f\"Classificatie Rapport:\\n{classification_report(label, prediction)}\")\n",
        "      print(\"_______________________________________________\")\n",
        "      print(f\"Confusion Matrix: \\n {confusion_matrix(label, prediction)}\\n\")\n",
        "\n",
        "print_score(y_train, y_train_pred, train=True)\n",
        "print_score(y_test, y_test_pred, train=False)"
      ],
      "metadata": {
        "id": "eArbKkLvyzLq"
      },
      "execution_count": null,
      "outputs": []
    },
    {
      "cell_type": "markdown",
      "source": [
        "---\n",
        "\n",
        "## Confusion Matrix reports:\n",
        "`[[TN, FP] `\n",
        "\n",
        "**True Negatives (TN):** Dit zijn de gevallen waarin uw model correct voorspelt dat een transactie normaal is.\n",
        "\n",
        "**False Positives (FP):** Dit zijn de gevallen waarin uw model onterecht voorspelt dat een normale transactie frauduleus is.\n",
        "\n",
        "\n",
        "`[FN, TP]]`\n",
        "\n",
        "**False Negatives (FN):** Dit zijn de frauduleuze transacties die uw model niet heeft gedetecteerd.\n",
        "\n",
        "\n",
        "**True Positives (TP):** Dit zijn de gevallen waarin uw model correct voorspelt dat de transactie frauduleus is.\n",
        "\n",
        "---\n",
        "\n",
        "## Classification Report:\n",
        "Het classificatierapport bevat verschillende belangrijke statistieken:\n",
        "\n",
        "**Precision**: Geeft aan hoeveel van de door het model als positief (frauduleus) geclassificeerde gevallen daadwerkelijk positief zijn.\n",
        "\n",
        "**Recall**: Geeft aan hoeveel van de werkelijke positieve gevallen het model correct heeft geïdentificeerd.\n",
        "\n",
        "**F1-score**: De harmonische gemiddelde van precisie en recall, een balans tussen de twee.\n",
        "\n",
        "**Support**: Het aantal werkelijke gevallen voor elke klasse in de dataset.\n",
        "\n",
        "**Accuracy**: Het totale percentage correcte voorspellingen door het model.\n",
        "\n",
        "**Macro avg**: Het ongewogen gemiddelde van de statistieken voor elke klasse.\n",
        "\n",
        "**Weighted avg**: Het gewogen gemiddelde van de statistieken voor elke klasse, waarbij de gewichten de ondersteuning (aantal gevallen) voor elke klasse zijn.\n",
        "\n",
        "\n",
        "\n",
        "\n"
      ],
      "metadata": {
        "id": "JQqdL0a3EQ2E"
      }
    }
  ]
}