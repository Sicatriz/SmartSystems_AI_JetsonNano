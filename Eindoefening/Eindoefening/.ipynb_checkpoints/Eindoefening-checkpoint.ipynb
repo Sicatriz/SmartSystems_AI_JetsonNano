{
 "cells": [
  {
   "cell_type": "code",
   "execution_count": null,
   "id": "9b254ec6-d447-4971-b7f3-6a7ae777d54a",
   "metadata": {},
   "outputs": [],
   "source": [
    "import os\n",
    "import pandas as pd\n",
    "root_dir = 'C:/Users/machk/SS_JLAB_WorkSpace/Eindoefening/legoblokken_A'\n",
    "object_folders = ['rood12', 'lichtgroen8arch', 'lichtgroen4', 'groen4', 'geel4', 'blauw12']\n"
   ]
  },
  {
   "cell_type": "code",
   "execution_count": null,
   "id": "584d0a6a-af89-46b5-b612-df86376f560a",
   "metadata": {
    "tags": []
   },
   "outputs": [],
   "source": [
    "data = []\n",
    "\n",
    "for object_label, folder_name in enumerate(object_folders):\n",
    "    folder_path = os.path.join(root_dir, folder_name)\n",
    "    for filename in os.listdir(folder_path):\n",
    "        if filename.endswith('.jpg') or filename.endswith('.png'):  # Check for image files\n",
    "            file_path = os.path.join(folder_path, filename)\n",
    "            data.append({'image_path': file_path, 'label': object_label})\n",
    "\n",
    "# Convert to DataFrame\n",
    "df = pd.DataFrame(data)\n"
   ]
  },
  {
   "cell_type": "code",
   "execution_count": null,
   "id": "6c0d7bb6-af5f-477c-b9df-f1b50b927377",
   "metadata": {
    "tags": []
   },
   "outputs": [],
   "source": [
    "df.to_csv('C:/Users/machk/SS_JLAB_WorkSpace/Eindoefening/datasetLego.csv', index=False)\n"
   ]
  },
  {
   "cell_type": "code",
   "execution_count": null,
   "id": "c817c5e9-62d9-4cd7-bb1b-1455d613ccbe",
   "metadata": {
    "tags": []
   },
   "outputs": [],
   "source": [
    "loaded_df = pd.read_csv('C:/Users/machk/SS_JLAB_WorkSpace/Eindoefening/datasetLego.csv')\n",
    "print(loaded_df.head())\n"
   ]
  },
  {
   "cell_type": "code",
   "execution_count": null,
   "id": "7eb683ec-f981-48a9-a008-00c6a7aefab8",
   "metadata": {
    "tags": []
   },
   "outputs": [],
   "source": [
    "import numpy as np\n",
    "import cv2\n",
    "import matplotlib.pyplot as plt\n",
    "import pandas as pd\n",
    "import os\n"
   ]
  },
  {
   "cell_type": "code",
   "execution_count": null,
   "id": "4f7e68fd-b266-43f9-a9e2-4d8013009efe",
   "metadata": {},
   "outputs": [],
   "source": []
  },
  {
   "cell_type": "code",
   "execution_count": null,
   "id": "7e7f3fd7-ee2c-4c92-9cfe-f333fc4b8899",
   "metadata": {
    "tags": []
   },
   "outputs": [],
   "source": [
    "def load_image(image_path):\n",
    "    image = cv2.imread(image_path)\n",
    "    image = cv2.cvtColor(image, cv2.COLOR_BGR2RGB)  # Convert from BGR to RGB\n",
    "    return image\n"
   ]
  },
  {
   "cell_type": "code",
   "execution_count": null,
   "id": "6e2ac7a9-2fcd-480a-9aa9-aeb894887506",
   "metadata": {
    "tags": []
   },
   "outputs": [],
   "source": [
    "def normalize_image(image):\n",
    "    normalized_image = image / 255.0\n",
    "    return normalized_image\n"
   ]
  },
  {
   "cell_type": "code",
   "execution_count": null,
   "id": "8c110163-2919-477e-835b-277a8c418ec5",
   "metadata": {
    "tags": []
   },
   "outputs": [],
   "source": [
    "\n",
    "def resize_image(image, size=(224, 224)):\n",
    "    return cv2.resize(image, size)\n"
   ]
  },
  {
   "cell_type": "code",
   "execution_count": null,
   "id": "e7ff6a9a-2f95-42de-b25f-5ed5f366dfe3",
   "metadata": {
    "tags": []
   },
   "outputs": [],
   "source": [
    "import tensorflow as tf\n",
    "from tensorflow.keras.applications.resnet50 import ResNet50\n",
    "from tensorflow.keras.layers import Dense, Flatten\n",
    "from tensorflow.keras.models import Model\n",
    "\n",
    "# Load pre-trained ResNet-50 without the top layer\n",
    "base_model = ResNet50(weights='imagenet', include_top=False)\n",
    "\n",
    "# Add new layers for object detection\n",
    "x = base_model.output\n",
    "x = Flatten()(x)\n",
    "x = Dense(1024, activation='relu')(x)\n",
    "predictions = Dense(num_classes, activation='softmax')(x)  # num_classes is the number of objects\n",
    "\n",
    "# This is the model we will train\n",
    "model = Model(inputs=base_model.input, outputs=predictions)\n",
    "\n",
    "# Compile the model\n",
    "model.compile(optimizer='adam', loss='categorical_crossentropy')  # Modify the loss function as needed\n"
   ]
  },
  {
   "cell_type": "code",
   "execution_count": null,
   "id": "b14e17e4-1fed-4bc5-9246-c1e4e1c6e80a",
   "metadata": {},
   "outputs": [],
   "source": [
    "from tensorflow.keras.preprocessing.image import ImageDataGenerator\n",
    "\n",
    "# Define paths to your training and validation data\n",
    "train_data_dir = 'path_to_training_data'\n",
    "validation_data_dir = 'path_to_validation_data'\n",
    "\n",
    "# Image size should match the input size of the base model\n",
    "img_width, img_height = 224, 224\n",
    "\n",
    "# Data Augmentation for training data\n",
    "train_datagen = ImageDataGenerator(\n",
    "    rescale=1./255,\n",
    "    rotation_range=20,\n",
    "    width_shift_range=0.2,\n",
    "    height_shift_range=0.2,\n",
    "    horizontal_flip=True,\n",
    "    fill_mode='nearest')\n",
    "\n",
    "# Only rescaling for validation data\n",
    "validation_datagen = ImageDataGenerator(rescale=1./255)\n",
    "\n",
    "train_generator = train_datagen.flow_from_directory(\n",
    "    train_data_dir,\n",
    "    target_size=(img_width, img_height),\n",
    "    batch_size=32,\n",
    "    class_mode='categorical')\n",
    "\n",
    "validation_generator = validation_datagen.flow_from_directory(\n",
    "    validation_data_dir,\n",
    "    target_size=(img_width, img_height),\n",
    "    batch_size=32,\n",
    "    class_mode='categorical')\n"
   ]
  },
  {
   "cell_type": "code",
   "execution_count": null,
   "id": "94b32843-49cb-4a19-8482-ce5fe9b9d0ea",
   "metadata": {},
   "outputs": [],
   "source": [
    "# Train the model\n",
    "history = model.fit(\n",
    "    train_generator,\n",
    "    steps_per_epoch=train_generator.samples // train_generator.batch_size,\n",
    "    epochs=10, # Adjust the number of epochs based on your requirement\n",
    "    validation_data=validation_generator,\n",
    "    validation_steps=validation_generator.samples // validation_generator.batch_size)\n"
   ]
  },
  {
   "cell_type": "code",
   "execution_count": null,
   "id": "1284526f-d90a-434e-b0a4-5d1d06043d71",
   "metadata": {},
   "outputs": [],
   "source": [
    "# Evaluate the model on validation data\n",
    "scores = model.evaluate(validation_generator, steps=validation_generator.samples // validation_generator.batch_size)\n",
    "print(f'Accuracy: {scores[1]*100}%')\n"
   ]
  },
  {
   "cell_type": "code",
   "execution_count": null,
   "id": "bd8bc5dc-9074-4baf-8120-a17bbe6d8832",
   "metadata": {},
   "outputs": [],
   "source": [
    "# Example of adding a Dropout layer\n",
    "from tensorflow.keras.layers import Dropout\n",
    "\n",
    "# Modify the model to add dropout\n",
    "x = Dropout(0.5)(model.layers[-2].output) # Add dropout after the second last layer\n",
    "new_predictions = Dense(num_classes, activation='softmax')(x)\n",
    "model = Model(inputs=model.input, outputs=new_predictions)\n",
    "\n",
    "# Re-compile the model\n",
    "model.compile(optimizer='adam', loss='categorical_crossentropy', metrics=['accuracy'])\n",
    "\n",
    "# Re-train the model\n",
    "# ... (use the training code provided in Step 2)\n"
   ]
  },
  {
   "cell_type": "code",
   "execution_count": null,
   "id": "65e2a3ef-6bd1-432b-8b87-ed469165f0d0",
   "metadata": {},
   "outputs": [],
   "source": [
    "# Save the model\n",
    "model.save('path_to_save_model/my_model.h5')\n",
    "\n",
    "# To load the model later\n",
    "# from tensorflow.keras.models import load_model\n",
    "# model = load_model('path_to_save_model/my_model.h5')\n"
   ]
  },
  {
   "cell_type": "code",
   "execution_count": null,
   "id": "25343bee-b17c-446f-81c9-56aa5c95007b",
   "metadata": {},
   "outputs": [],
   "source": [
    "import ipywidgets\n",
    "from jetcam.csi_camera import CSICamera\n",
    "import tensorflow as tf\n",
    "from tensorflow.keras.models import load_model\n",
    "import numpy as np\n",
    "\n",
    "# Load your trained model\n",
    "model = load_model('path_to_your_model/my_model.h5')\n",
    "\n",
    "# Initialize the CSI camera\n",
    "camera = CSICamera(width=224, height=224, capture_device=0)\n",
    "\n",
    "# Create an image widget\n",
    "image_widget = ipywidgets.Image(format='jpeg')\n",
    "\n",
    "def bgr8_to_jpeg(image):\n",
    "    # Convert BGR image to JPEG format for display\n",
    "    return cv2.imencode('.jpg', image)[1].tobytes()\n",
    "\n",
    "# Function to update the image widget and make predictions\n",
    "def update_image(change):\n",
    "    image = change['new']\n",
    "    # Preprocess the image and make prediction\n",
    "    image_array = tf.keras.preprocessing.image.img_to_array(image)\n",
    "    image_array = np.expand_dims(image_array, axis=0)\n",
    "    image_array /= 255.0\n",
    "\n",
    "    prediction = model.predict(image_array)\n",
    "    # Interpret the prediction to get the class name or label\n",
    "    # Assuming 'class_names' is a list of class names in the order they were trained\n",
    "    class_name = class_names[np.argmax(prediction)]\n",
    "\n",
    "    # Display the class name or label with the image\n",
    "    display_label = f'Predicted: {class_name}'\n",
    "    image_widget.value = bgr8_to_jpeg(image)\n",
    "\n",
    "    print(display_label)\n",
    "\n",
    "# Observe the camera for changes and update the image widget\n",
    "camera.observe(update_image, names='value')\n",
    "\n",
    "# Display the image widget\n",
    "display(image_widget)\n",
    "\n",
    "# Start the camera\n",
    "camera.running = True\n"
   ]
  },
  {
   "cell_type": "code",
   "execution_count": null,
   "id": "fa9aedad-71f5-40f7-a7e4-5bf2ac242b11",
   "metadata": {},
   "outputs": [],
   "source": [
    "camera.observe(update_image, names='value')"
   ]
  },
  {
   "cell_type": "code",
   "execution_count": null,
   "id": "e2ed9d12-d88b-490b-bdd3-8e437d4329eb",
   "metadata": {},
   "outputs": [],
   "source": [
    "# Attention!  Execute this cell before moving to another notebook\n",
    "# The USB camera application only requires that the notebook be reset\n",
    "# The CSI camera application requires that the 'camera' object be specifically released\n",
    "\n",
    "camera.running = False\n",
    "camera.cap.release()"
   ]
  }
 ],
 "metadata": {
  "kernelspec": {
   "display_name": "Python 3 (ipykernel)",
   "language": "python",
   "name": "python3"
  },
  "language_info": {
   "codemirror_mode": {
    "name": "ipython",
    "version": 3
   },
   "file_extension": ".py",
   "mimetype": "text/x-python",
   "name": "python",
   "nbconvert_exporter": "python",
   "pygments_lexer": "ipython3",
   "version": "3.11.5"
  }
 },
 "nbformat": 4,
 "nbformat_minor": 5
}
